{
 "cells": [
  {
   "cell_type": "code",
   "execution_count": 1,
   "id": "534dfaa2",
   "metadata": {
    "_cell_guid": "b1076dfc-b9ad-4769-8c92-a6c4dae69d19",
    "_kg_hide-input": true,
    "_uuid": "8f2839f25d086af736a60e9eeb907d3b93b6e0e5",
    "execution": {
     "iopub.execute_input": "2022-12-03T14:15:26.977038Z",
     "iopub.status.busy": "2022-12-03T14:15:26.975630Z",
     "iopub.status.idle": "2022-12-03T14:15:28.130069Z",
     "shell.execute_reply": "2022-12-03T14:15:28.128502Z"
    },
    "papermill": {
     "duration": 1.166708,
     "end_time": "2022-12-03T14:15:28.132943",
     "exception": false,
     "start_time": "2022-12-03T14:15:26.966235",
     "status": "completed"
    },
    "tags": []
   },
   "outputs": [
    {
     "name": "stdout",
     "output_type": "stream",
     "text": [
      "/kaggle/input/diabetes-dataset/diabetes.csv\n"
     ]
    }
   ],
   "source": [
    "\n",
    "import numpy as np \n",
    "import pandas as pd\n",
    "import matplotlib.pyplot as plt\n",
    "import seaborn as sns\n",
    "import warnings\n",
    "warnings.filterwarnings(\"ignore\")\n",
    "\n",
    "# import os\n",
    "# for dirname, _, filenames in os.walk('/kaggle/input'):\n",
    "#     for filename in filenames:\n",
    "#         print(os.path.join(dirname, filename))\n"
   ]
  },
  {
   "cell_type": "code",
   "execution_count": 2,
   "id": "5bad3896",
   "metadata": {
    "execution": {
     "iopub.execute_input": "2022-12-03T14:15:28.183634Z",
     "iopub.status.busy": "2022-12-03T14:15:28.183041Z",
     "iopub.status.idle": "2022-12-03T14:15:28.222732Z",
     "shell.execute_reply": "2022-12-03T14:15:28.221491Z"
    },
    "papermill": {
     "duration": 0.052041,
     "end_time": "2022-12-03T14:15:28.226037",
     "exception": false,
     "start_time": "2022-12-03T14:15:28.173996",
     "status": "completed"
    },
    "tags": []
   },
   "outputs": [
    {
     "data": {
      "text/html": [
       "<div>\n",
       "<style scoped>\n",
       "    .dataframe tbody tr th:only-of-type {\n",
       "        vertical-align: middle;\n",
       "    }\n",
       "\n",
       "    .dataframe tbody tr th {\n",
       "        vertical-align: top;\n",
       "    }\n",
       "\n",
       "    .dataframe thead th {\n",
       "        text-align: right;\n",
       "    }\n",
       "</style>\n",
       "<table border=\"1\" class=\"dataframe\">\n",
       "  <thead>\n",
       "    <tr style=\"text-align: right;\">\n",
       "      <th></th>\n",
       "      <th>Pregnancies</th>\n",
       "      <th>Glucose</th>\n",
       "      <th>BloodPressure</th>\n",
       "      <th>SkinThickness</th>\n",
       "      <th>Insulin</th>\n",
       "      <th>BMI</th>\n",
       "      <th>DiabetesPedigreeFunction</th>\n",
       "      <th>Age</th>\n",
       "      <th>Outcome</th>\n",
       "    </tr>\n",
       "  </thead>\n",
       "  <tbody>\n",
       "    <tr>\n",
       "      <th>0</th>\n",
       "      <td>6</td>\n",
       "      <td>148</td>\n",
       "      <td>72</td>\n",
       "      <td>35</td>\n",
       "      <td>0</td>\n",
       "      <td>33.6</td>\n",
       "      <td>0.627</td>\n",
       "      <td>50</td>\n",
       "      <td>1</td>\n",
       "    </tr>\n",
       "    <tr>\n",
       "      <th>1</th>\n",
       "      <td>1</td>\n",
       "      <td>85</td>\n",
       "      <td>66</td>\n",
       "      <td>29</td>\n",
       "      <td>0</td>\n",
       "      <td>26.6</td>\n",
       "      <td>0.351</td>\n",
       "      <td>31</td>\n",
       "      <td>0</td>\n",
       "    </tr>\n",
       "    <tr>\n",
       "      <th>2</th>\n",
       "      <td>8</td>\n",
       "      <td>183</td>\n",
       "      <td>64</td>\n",
       "      <td>0</td>\n",
       "      <td>0</td>\n",
       "      <td>23.3</td>\n",
       "      <td>0.672</td>\n",
       "      <td>32</td>\n",
       "      <td>1</td>\n",
       "    </tr>\n",
       "    <tr>\n",
       "      <th>3</th>\n",
       "      <td>1</td>\n",
       "      <td>89</td>\n",
       "      <td>66</td>\n",
       "      <td>23</td>\n",
       "      <td>94</td>\n",
       "      <td>28.1</td>\n",
       "      <td>0.167</td>\n",
       "      <td>21</td>\n",
       "      <td>0</td>\n",
       "    </tr>\n",
       "    <tr>\n",
       "      <th>4</th>\n",
       "      <td>0</td>\n",
       "      <td>137</td>\n",
       "      <td>40</td>\n",
       "      <td>35</td>\n",
       "      <td>168</td>\n",
       "      <td>43.1</td>\n",
       "      <td>2.288</td>\n",
       "      <td>33</td>\n",
       "      <td>1</td>\n",
       "    </tr>\n",
       "    <tr>\n",
       "      <th>...</th>\n",
       "      <td>...</td>\n",
       "      <td>...</td>\n",
       "      <td>...</td>\n",
       "      <td>...</td>\n",
       "      <td>...</td>\n",
       "      <td>...</td>\n",
       "      <td>...</td>\n",
       "      <td>...</td>\n",
       "      <td>...</td>\n",
       "    </tr>\n",
       "    <tr>\n",
       "      <th>763</th>\n",
       "      <td>10</td>\n",
       "      <td>101</td>\n",
       "      <td>76</td>\n",
       "      <td>48</td>\n",
       "      <td>180</td>\n",
       "      <td>32.9</td>\n",
       "      <td>0.171</td>\n",
       "      <td>63</td>\n",
       "      <td>0</td>\n",
       "    </tr>\n",
       "    <tr>\n",
       "      <th>764</th>\n",
       "      <td>2</td>\n",
       "      <td>122</td>\n",
       "      <td>70</td>\n",
       "      <td>27</td>\n",
       "      <td>0</td>\n",
       "      <td>36.8</td>\n",
       "      <td>0.340</td>\n",
       "      <td>27</td>\n",
       "      <td>0</td>\n",
       "    </tr>\n",
       "    <tr>\n",
       "      <th>765</th>\n",
       "      <td>5</td>\n",
       "      <td>121</td>\n",
       "      <td>72</td>\n",
       "      <td>23</td>\n",
       "      <td>112</td>\n",
       "      <td>26.2</td>\n",
       "      <td>0.245</td>\n",
       "      <td>30</td>\n",
       "      <td>0</td>\n",
       "    </tr>\n",
       "    <tr>\n",
       "      <th>766</th>\n",
       "      <td>1</td>\n",
       "      <td>126</td>\n",
       "      <td>60</td>\n",
       "      <td>0</td>\n",
       "      <td>0</td>\n",
       "      <td>30.1</td>\n",
       "      <td>0.349</td>\n",
       "      <td>47</td>\n",
       "      <td>1</td>\n",
       "    </tr>\n",
       "    <tr>\n",
       "      <th>767</th>\n",
       "      <td>1</td>\n",
       "      <td>93</td>\n",
       "      <td>70</td>\n",
       "      <td>31</td>\n",
       "      <td>0</td>\n",
       "      <td>30.4</td>\n",
       "      <td>0.315</td>\n",
       "      <td>23</td>\n",
       "      <td>0</td>\n",
       "    </tr>\n",
       "  </tbody>\n",
       "</table>\n",
       "<p>768 rows × 9 columns</p>\n",
       "</div>"
      ],
      "text/plain": [
       "     Pregnancies  Glucose  BloodPressure  SkinThickness  Insulin   BMI  \\\n",
       "0              6      148             72             35        0  33.6   \n",
       "1              1       85             66             29        0  26.6   \n",
       "2              8      183             64              0        0  23.3   \n",
       "3              1       89             66             23       94  28.1   \n",
       "4              0      137             40             35      168  43.1   \n",
       "..           ...      ...            ...            ...      ...   ...   \n",
       "763           10      101             76             48      180  32.9   \n",
       "764            2      122             70             27        0  36.8   \n",
       "765            5      121             72             23      112  26.2   \n",
       "766            1      126             60              0        0  30.1   \n",
       "767            1       93             70             31        0  30.4   \n",
       "\n",
       "     DiabetesPedigreeFunction  Age  Outcome  \n",
       "0                       0.627   50        1  \n",
       "1                       0.351   31        0  \n",
       "2                       0.672   32        1  \n",
       "3                       0.167   21        0  \n",
       "4                       2.288   33        1  \n",
       "..                        ...  ...      ...  \n",
       "763                     0.171   63        0  \n",
       "764                     0.340   27        0  \n",
       "765                     0.245   30        0  \n",
       "766                     0.349   47        1  \n",
       "767                     0.315   23        0  \n",
       "\n",
       "[768 rows x 9 columns]"
      ]
     },
     "execution_count": 2,
     "metadata": {},
     "output_type": "execute_result"
    }
   ],
   "source": [
    "df = pd.read_csv('/kaggle/input/diabetes-dataset/diabetes.csv')\n",
    "df"
   ]
  },
  {
   "cell_type": "code",
   "execution_count": 3,
   "id": "f07a3577",
   "metadata": {
    "execution": {
     "iopub.execute_input": "2022-12-03T14:15:28.244845Z",
     "iopub.status.busy": "2022-12-03T14:15:28.244519Z",
     "iopub.status.idle": "2022-12-03T14:15:28.266978Z",
     "shell.execute_reply": "2022-12-03T14:15:28.265918Z"
    },
    "papermill": {
     "duration": 0.034861,
     "end_time": "2022-12-03T14:15:28.269603",
     "exception": false,
     "start_time": "2022-12-03T14:15:28.234742",
     "status": "completed"
    },
    "tags": []
   },
   "outputs": [
    {
     "name": "stdout",
     "output_type": "stream",
     "text": [
      "<class 'pandas.core.frame.DataFrame'>\n",
      "RangeIndex: 768 entries, 0 to 767\n",
      "Data columns (total 9 columns):\n",
      " #   Column                    Non-Null Count  Dtype  \n",
      "---  ------                    --------------  -----  \n",
      " 0   Pregnancies               768 non-null    int64  \n",
      " 1   Glucose                   768 non-null    int64  \n",
      " 2   BloodPressure             768 non-null    int64  \n",
      " 3   SkinThickness             768 non-null    int64  \n",
      " 4   Insulin                   768 non-null    int64  \n",
      " 5   BMI                       768 non-null    float64\n",
      " 6   DiabetesPedigreeFunction  768 non-null    float64\n",
      " 7   Age                       768 non-null    int64  \n",
      " 8   Outcome                   768 non-null    int64  \n",
      "dtypes: float64(2), int64(7)\n",
      "memory usage: 54.1 KB\n"
     ]
    }
   ],
   "source": [
    "df.info()"
   ]
  },
  {
   "cell_type": "code",
   "execution_count": 4,
   "id": "817ddbf1",
   "metadata": {
    "execution": {
     "iopub.execute_input": "2022-12-03T14:15:28.288769Z",
     "iopub.status.busy": "2022-12-03T14:15:28.288444Z",
     "iopub.status.idle": "2022-12-03T14:15:28.326885Z",
     "shell.execute_reply": "2022-12-03T14:15:28.325354Z"
    },
    "papermill": {
     "duration": 0.050636,
     "end_time": "2022-12-03T14:15:28.329533",
     "exception": false,
     "start_time": "2022-12-03T14:15:28.278897",
     "status": "completed"
    },
    "tags": []
   },
   "outputs": [
    {
     "data": {
      "text/html": [
       "<div>\n",
       "<style scoped>\n",
       "    .dataframe tbody tr th:only-of-type {\n",
       "        vertical-align: middle;\n",
       "    }\n",
       "\n",
       "    .dataframe tbody tr th {\n",
       "        vertical-align: top;\n",
       "    }\n",
       "\n",
       "    .dataframe thead th {\n",
       "        text-align: right;\n",
       "    }\n",
       "</style>\n",
       "<table border=\"1\" class=\"dataframe\">\n",
       "  <thead>\n",
       "    <tr style=\"text-align: right;\">\n",
       "      <th></th>\n",
       "      <th>Pregnancies</th>\n",
       "      <th>Glucose</th>\n",
       "      <th>BloodPressure</th>\n",
       "      <th>SkinThickness</th>\n",
       "      <th>Insulin</th>\n",
       "      <th>BMI</th>\n",
       "      <th>DiabetesPedigreeFunction</th>\n",
       "      <th>Age</th>\n",
       "      <th>Outcome</th>\n",
       "    </tr>\n",
       "  </thead>\n",
       "  <tbody>\n",
       "    <tr>\n",
       "      <th>count</th>\n",
       "      <td>768.000000</td>\n",
       "      <td>768.000000</td>\n",
       "      <td>768.000000</td>\n",
       "      <td>768.000000</td>\n",
       "      <td>768.000000</td>\n",
       "      <td>768.000000</td>\n",
       "      <td>768.000000</td>\n",
       "      <td>768.000000</td>\n",
       "      <td>768.000000</td>\n",
       "    </tr>\n",
       "    <tr>\n",
       "      <th>mean</th>\n",
       "      <td>3.845052</td>\n",
       "      <td>120.894531</td>\n",
       "      <td>69.105469</td>\n",
       "      <td>20.536458</td>\n",
       "      <td>79.799479</td>\n",
       "      <td>31.992578</td>\n",
       "      <td>0.471876</td>\n",
       "      <td>33.240885</td>\n",
       "      <td>0.348958</td>\n",
       "    </tr>\n",
       "    <tr>\n",
       "      <th>std</th>\n",
       "      <td>3.369578</td>\n",
       "      <td>31.972618</td>\n",
       "      <td>19.355807</td>\n",
       "      <td>15.952218</td>\n",
       "      <td>115.244002</td>\n",
       "      <td>7.884160</td>\n",
       "      <td>0.331329</td>\n",
       "      <td>11.760232</td>\n",
       "      <td>0.476951</td>\n",
       "    </tr>\n",
       "    <tr>\n",
       "      <th>min</th>\n",
       "      <td>0.000000</td>\n",
       "      <td>0.000000</td>\n",
       "      <td>0.000000</td>\n",
       "      <td>0.000000</td>\n",
       "      <td>0.000000</td>\n",
       "      <td>0.000000</td>\n",
       "      <td>0.078000</td>\n",
       "      <td>21.000000</td>\n",
       "      <td>0.000000</td>\n",
       "    </tr>\n",
       "    <tr>\n",
       "      <th>25%</th>\n",
       "      <td>1.000000</td>\n",
       "      <td>99.000000</td>\n",
       "      <td>62.000000</td>\n",
       "      <td>0.000000</td>\n",
       "      <td>0.000000</td>\n",
       "      <td>27.300000</td>\n",
       "      <td>0.243750</td>\n",
       "      <td>24.000000</td>\n",
       "      <td>0.000000</td>\n",
       "    </tr>\n",
       "    <tr>\n",
       "      <th>50%</th>\n",
       "      <td>3.000000</td>\n",
       "      <td>117.000000</td>\n",
       "      <td>72.000000</td>\n",
       "      <td>23.000000</td>\n",
       "      <td>30.500000</td>\n",
       "      <td>32.000000</td>\n",
       "      <td>0.372500</td>\n",
       "      <td>29.000000</td>\n",
       "      <td>0.000000</td>\n",
       "    </tr>\n",
       "    <tr>\n",
       "      <th>75%</th>\n",
       "      <td>6.000000</td>\n",
       "      <td>140.250000</td>\n",
       "      <td>80.000000</td>\n",
       "      <td>32.000000</td>\n",
       "      <td>127.250000</td>\n",
       "      <td>36.600000</td>\n",
       "      <td>0.626250</td>\n",
       "      <td>41.000000</td>\n",
       "      <td>1.000000</td>\n",
       "    </tr>\n",
       "    <tr>\n",
       "      <th>max</th>\n",
       "      <td>17.000000</td>\n",
       "      <td>199.000000</td>\n",
       "      <td>122.000000</td>\n",
       "      <td>99.000000</td>\n",
       "      <td>846.000000</td>\n",
       "      <td>67.100000</td>\n",
       "      <td>2.420000</td>\n",
       "      <td>81.000000</td>\n",
       "      <td>1.000000</td>\n",
       "    </tr>\n",
       "  </tbody>\n",
       "</table>\n",
       "</div>"
      ],
      "text/plain": [
       "       Pregnancies     Glucose  BloodPressure  SkinThickness     Insulin  \\\n",
       "count   768.000000  768.000000     768.000000     768.000000  768.000000   \n",
       "mean      3.845052  120.894531      69.105469      20.536458   79.799479   \n",
       "std       3.369578   31.972618      19.355807      15.952218  115.244002   \n",
       "min       0.000000    0.000000       0.000000       0.000000    0.000000   \n",
       "25%       1.000000   99.000000      62.000000       0.000000    0.000000   \n",
       "50%       3.000000  117.000000      72.000000      23.000000   30.500000   \n",
       "75%       6.000000  140.250000      80.000000      32.000000  127.250000   \n",
       "max      17.000000  199.000000     122.000000      99.000000  846.000000   \n",
       "\n",
       "              BMI  DiabetesPedigreeFunction         Age     Outcome  \n",
       "count  768.000000                768.000000  768.000000  768.000000  \n",
       "mean    31.992578                  0.471876   33.240885    0.348958  \n",
       "std      7.884160                  0.331329   11.760232    0.476951  \n",
       "min      0.000000                  0.078000   21.000000    0.000000  \n",
       "25%     27.300000                  0.243750   24.000000    0.000000  \n",
       "50%     32.000000                  0.372500   29.000000    0.000000  \n",
       "75%     36.600000                  0.626250   41.000000    1.000000  \n",
       "max     67.100000                  2.420000   81.000000    1.000000  "
      ]
     },
     "execution_count": 4,
     "metadata": {},
     "output_type": "execute_result"
    }
   ],
   "source": [
    "df.describe()"
   ]
  },
  {
   "cell_type": "markdown",
   "id": "5009f445",
   "metadata": {
    "papermill": {
     "duration": 0.008048,
     "end_time": "2022-12-03T14:15:28.346148",
     "exception": false,
     "start_time": "2022-12-03T14:15:28.338100",
     "status": "completed"
    },
    "tags": []
   },
   "source": [
    "No null value is found in the dataset.  However, the columns of glucose / bloodpressure and skin thickness seems to have some problem of value 0 which is not realistic.\n",
    "\n",
    "Medium / Mean value of that age can be used."
   ]
  },
  {
   "cell_type": "code",
   "execution_count": 5,
   "id": "75f14138",
   "metadata": {
    "execution": {
     "iopub.execute_input": "2022-12-03T14:15:28.364951Z",
     "iopub.status.busy": "2022-12-03T14:15:28.364564Z",
     "iopub.status.idle": "2022-12-03T14:15:28.533155Z",
     "shell.execute_reply": "2022-12-03T14:15:28.532499Z"
    },
    "papermill": {
     "duration": 0.180726,
     "end_time": "2022-12-03T14:15:28.535390",
     "exception": false,
     "start_time": "2022-12-03T14:15:28.354664",
     "status": "completed"
    },
    "tags": []
   },
   "outputs": [
    {
     "data": {
      "image/png": "[encoded data removed]",
      "text/plain": [
       "<Figure size 842.4x595.44 with 1 Axes>"
      ]
     },
     "metadata": {},
     "output_type": "display_data"
    }
   ],
   "source": [
    "sns.set(rc={'figure.figsize':(11.7,8.27)})\n",
    "sns.countplot(data=df, x='Outcome')\n",
    "plt.title('The number of normal person vs subject having diabetes')\n",
    "plt.show()"
   ]
  },
  {
   "cell_type": "markdown",
   "id": "9df6513d",
   "metadata": {
    "papermill": {
     "duration": 0.00909,
     "end_time": "2022-12-03T14:15:28.553427",
     "exception": false,
     "start_time": "2022-12-03T14:15:28.544337",
     "status": "completed"
    },
    "tags": []
   },
   "source": [
    "# Explorartory Data Analysis and Feature Engineering"
   ]
  },
  {
   "cell_type": "markdown",
   "id": "71b19ada",
   "metadata": {
    "papermill": {
     "duration": 0.008538,
     "end_time": "2022-12-03T14:15:28.571658",
     "exception": false,
     "start_time": "2022-12-03T14:15:28.563120",
     "status": "completed"
    },
    "tags": []
   },
   "source": []
  },
  {
   "cell_type": "code",
   "execution_count": 6,
   "id": "341564b1",
   "metadata": {
    "execution": {
     "iopub.execute_input": "2022-12-03T14:15:28.591283Z",
     "iopub.status.busy": "2022-12-03T14:15:28.590653Z",
     "iopub.status.idle": "2022-12-03T14:15:28.875199Z",
     "shell.execute_reply": "2022-12-03T14:15:28.874323Z"
    },
    "papermill": {
     "duration": 0.296746,
     "end_time": "2022-12-03T14:15:28.877303",
     "exception": false,
     "start_time": "2022-12-03T14:15:28.580557",
     "status": "completed"
    },
    "tags": []
   },
   "outputs": [
    {
     "data": {
      "image/png": "[encoded data removed]",
      "text/plain": [
       "<Figure size 842.4x595.44 with 2 Axes>"
      ]
     },
     "metadata": {},
     "output_type": "display_data"
    }
   ],
   "source": [
    "sns.heatmap(df.corr())\n",
    "plt.show()"
   ]
  },
  {
   "cell_type": "markdown",
   "id": "7719a821",
   "metadata": {
    "papermill": {
     "duration": 0.008726,
     "end_time": "2022-12-03T14:15:28.895326",
     "exception": false,
     "start_time": "2022-12-03T14:15:28.886600",
     "status": "completed"
    },
    "tags": []
   },
   "source": [
    "As we can see, there are few factors are crucial to diabetes.\n",
    "\n",
    "**Glucose Level** Normally, a blood sugar level less than 140 mg/dL is normal.  A reading of more than 200 mg/DL after two hours means you have diabetes.  \n",
    "\n",
    "**BMI** Body Mass Index is a person's weight in kilograms divided by the square of height in meters.  \n",
    "\n",
    "**Age**  The age somehow has a corelation to the diabetes."
   ]
  },
  {
   "cell_type": "markdown",
   "id": "3cc66e4c",
   "metadata": {
    "papermill": {
     "duration": 0.008576,
     "end_time": "2022-12-03T14:15:28.913131",
     "exception": false,
     "start_time": "2022-12-03T14:15:28.904555",
     "status": "completed"
    },
    "tags": []
   },
   "source": [
    "Pregnancies"
   ]
  },
  {
   "cell_type": "code",
   "execution_count": 7,
   "id": "f927084f",
   "metadata": {
    "execution": {
     "iopub.execute_input": "2022-12-03T14:15:28.933101Z",
     "iopub.status.busy": "2022-12-03T14:15:28.932613Z",
     "iopub.status.idle": "2022-12-03T14:15:29.195427Z",
     "shell.execute_reply": "2022-12-03T14:15:29.194483Z"
    },
    "papermill": {
     "duration": 0.274999,
     "end_time": "2022-12-03T14:15:29.197294",
     "exception": false,
     "start_time": "2022-12-03T14:15:28.922295",
     "status": "completed"
    },
    "tags": []
   },
   "outputs": [
    {
     "data": {
      "image/png": "[encoded data removed]",
      "text/plain": [
       "<Figure size 842.4x595.44 with 1 Axes>"
      ]
     },
     "metadata": {},
     "output_type": "display_data"
    }
   ],
   "source": [
    "sns.histplot(df, x='Pregnancies', kde=True)\n",
    "plt.title(\"The distribution of pregnancies\")\n",
    "plt.show()"
   ]
  },
  {
   "cell_type": "markdown",
   "id": "230ddb36",
   "metadata": {
    "papermill": {
     "duration": 0.009333,
     "end_time": "2022-12-03T14:15:29.216237",
     "exception": false,
     "start_time": "2022-12-03T14:15:29.206904",
     "status": "completed"
    },
    "tags": []
   },
   "source": [
    "Although the data have some value 0 problem, that's is impossible to distinguish the true 0 and false 0 in this case.\n",
    "\n",
    "Therefore, no extra work is required."
   ]
  },
  {
   "cell_type": "code",
   "execution_count": 8,
   "id": "cc7b5566",
   "metadata": {
    "execution": {
     "iopub.execute_input": "2022-12-03T14:15:29.237227Z",
     "iopub.status.busy": "2022-12-03T14:15:29.236892Z",
     "iopub.status.idle": "2022-12-03T14:15:29.498313Z",
     "shell.execute_reply": "2022-12-03T14:15:29.497352Z"
    },
    "papermill": {
     "duration": 0.274348,
     "end_time": "2022-12-03T14:15:29.500334",
     "exception": false,
     "start_time": "2022-12-03T14:15:29.225986",
     "status": "completed"
    },
    "tags": []
   },
   "outputs": [
    {
     "data": {
      "image/png": "[encoded data removed]",
      "text/plain": [
       "<Figure size 842.4x595.44 with 1 Axes>"
      ]
     },
     "metadata": {},
     "output_type": "display_data"
    }
   ],
   "source": [
    "sns.histplot(df, x='Glucose', kde=True)\n",
    "plt.title('Distribution of Glucose Level in the dataset')\n",
    "plt.show()"
   ]
  },
  {
   "cell_type": "markdown",
   "id": "2c52923b",
   "metadata": {
    "papermill": {
     "duration": 0.009804,
     "end_time": "2022-12-03T14:15:29.520723",
     "exception": false,
     "start_time": "2022-12-03T14:15:29.510919",
     "status": "completed"
    },
    "tags": []
   },
   "source": [
    "Some people have 0 blood pressure which is impossible.  Some work has to be done to cleanse the data.\n",
    "\n",
    "\n",
    "The mean of that age is used to fill up the zero value."
   ]
  },
  {
   "cell_type": "code",
   "execution_count": 9,
   "id": "d8ba690b",
   "metadata": {
    "execution": {
     "iopub.execute_input": "2022-12-03T14:15:29.542101Z",
     "iopub.status.busy": "2022-12-03T14:15:29.541604Z",
     "iopub.status.idle": "2022-12-03T14:15:29.575356Z",
     "shell.execute_reply": "2022-12-03T14:15:29.574486Z"
    },
    "papermill": {
     "duration": 0.046663,
     "end_time": "2022-12-03T14:15:29.577276",
     "exception": false,
     "start_time": "2022-12-03T14:15:29.530613",
     "status": "completed"
    },
    "tags": []
   },
   "outputs": [
    {
     "data": {
      "text/html": [
       "<div>\n",
       "<style scoped>\n",
       "    .dataframe tbody tr th:only-of-type {\n",
       "        vertical-align: middle;\n",
       "    }\n",
       "\n",
       "    .dataframe tbody tr th {\n",
       "        vertical-align: top;\n",
       "    }\n",
       "\n",
       "    .dataframe thead th {\n",
       "        text-align: right;\n",
       "    }\n",
       "</style>\n",
       "<table border=\"1\" class=\"dataframe\">\n",
       "  <thead>\n",
       "    <tr style=\"text-align: right;\">\n",
       "      <th></th>\n",
       "      <th>Pregnancies</th>\n",
       "      <th>Glucose</th>\n",
       "      <th>BloodPressure</th>\n",
       "      <th>SkinThickness</th>\n",
       "      <th>Insulin</th>\n",
       "      <th>BMI</th>\n",
       "      <th>DiabetesPedigreeFunction</th>\n",
       "      <th>Age</th>\n",
       "      <th>Outcome</th>\n",
       "    </tr>\n",
       "  </thead>\n",
       "  <tbody>\n",
       "    <tr>\n",
       "      <th>0</th>\n",
       "      <td>6</td>\n",
       "      <td>148.0</td>\n",
       "      <td>72</td>\n",
       "      <td>35</td>\n",
       "      <td>0</td>\n",
       "      <td>33.6</td>\n",
       "      <td>0.627</td>\n",
       "      <td>50</td>\n",
       "      <td>1</td>\n",
       "    </tr>\n",
       "    <tr>\n",
       "      <th>1</th>\n",
       "      <td>1</td>\n",
       "      <td>85.0</td>\n",
       "      <td>66</td>\n",
       "      <td>29</td>\n",
       "      <td>0</td>\n",
       "      <td>26.6</td>\n",
       "      <td>0.351</td>\n",
       "      <td>31</td>\n",
       "      <td>0</td>\n",
       "    </tr>\n",
       "    <tr>\n",
       "      <th>2</th>\n",
       "      <td>8</td>\n",
       "      <td>183.0</td>\n",
       "      <td>64</td>\n",
       "      <td>0</td>\n",
       "      <td>0</td>\n",
       "      <td>23.3</td>\n",
       "      <td>0.672</td>\n",
       "      <td>32</td>\n",
       "      <td>1</td>\n",
       "    </tr>\n",
       "    <tr>\n",
       "      <th>3</th>\n",
       "      <td>1</td>\n",
       "      <td>89.0</td>\n",
       "      <td>66</td>\n",
       "      <td>23</td>\n",
       "      <td>94</td>\n",
       "      <td>28.1</td>\n",
       "      <td>0.167</td>\n",
       "      <td>21</td>\n",
       "      <td>0</td>\n",
       "    </tr>\n",
       "    <tr>\n",
       "      <th>4</th>\n",
       "      <td>0</td>\n",
       "      <td>137.0</td>\n",
       "      <td>40</td>\n",
       "      <td>35</td>\n",
       "      <td>168</td>\n",
       "      <td>43.1</td>\n",
       "      <td>2.288</td>\n",
       "      <td>33</td>\n",
       "      <td>1</td>\n",
       "    </tr>\n",
       "    <tr>\n",
       "      <th>...</th>\n",
       "      <td>...</td>\n",
       "      <td>...</td>\n",
       "      <td>...</td>\n",
       "      <td>...</td>\n",
       "      <td>...</td>\n",
       "      <td>...</td>\n",
       "      <td>...</td>\n",
       "      <td>...</td>\n",
       "      <td>...</td>\n",
       "    </tr>\n",
       "    <tr>\n",
       "      <th>763</th>\n",
       "      <td>10</td>\n",
       "      <td>101.0</td>\n",
       "      <td>76</td>\n",
       "      <td>48</td>\n",
       "      <td>180</td>\n",
       "      <td>32.9</td>\n",
       "      <td>0.171</td>\n",
       "      <td>63</td>\n",
       "      <td>0</td>\n",
       "    </tr>\n",
       "    <tr>\n",
       "      <th>764</th>\n",
       "      <td>2</td>\n",
       "      <td>122.0</td>\n",
       "      <td>70</td>\n",
       "      <td>27</td>\n",
       "      <td>0</td>\n",
       "      <td>36.8</td>\n",
       "      <td>0.340</td>\n",
       "      <td>27</td>\n",
       "      <td>0</td>\n",
       "    </tr>\n",
       "    <tr>\n",
       "      <th>765</th>\n",
       "      <td>5</td>\n",
       "      <td>121.0</td>\n",
       "      <td>72</td>\n",
       "      <td>23</td>\n",
       "      <td>112</td>\n",
       "      <td>26.2</td>\n",
       "      <td>0.245</td>\n",
       "      <td>30</td>\n",
       "      <td>0</td>\n",
       "    </tr>\n",
       "    <tr>\n",
       "      <th>766</th>\n",
       "      <td>1</td>\n",
       "      <td>126.0</td>\n",
       "      <td>60</td>\n",
       "      <td>0</td>\n",
       "      <td>0</td>\n",
       "      <td>30.1</td>\n",
       "      <td>0.349</td>\n",
       "      <td>47</td>\n",
       "      <td>1</td>\n",
       "    </tr>\n",
       "    <tr>\n",
       "      <th>767</th>\n",
       "      <td>1</td>\n",
       "      <td>93.0</td>\n",
       "      <td>70</td>\n",
       "      <td>31</td>\n",
       "      <td>0</td>\n",
       "      <td>30.4</td>\n",
       "      <td>0.315</td>\n",
       "      <td>23</td>\n",
       "      <td>0</td>\n",
       "    </tr>\n",
       "  </tbody>\n",
       "</table>\n",
       "<p>768 rows × 9 columns</p>\n",
       "</div>"
      ],
      "text/plain": [
       "     Pregnancies  Glucose  BloodPressure  SkinThickness  Insulin   BMI  \\\n",
       "0              6    148.0             72             35        0  33.6   \n",
       "1              1     85.0             66             29        0  26.6   \n",
       "2              8    183.0             64              0        0  23.3   \n",
       "3              1     89.0             66             23       94  28.1   \n",
       "4              0    137.0             40             35      168  43.1   \n",
       "..           ...      ...            ...            ...      ...   ...   \n",
       "763           10    101.0             76             48      180  32.9   \n",
       "764            2    122.0             70             27        0  36.8   \n",
       "765            5    121.0             72             23      112  26.2   \n",
       "766            1    126.0             60              0        0  30.1   \n",
       "767            1     93.0             70             31        0  30.4   \n",
       "\n",
       "     DiabetesPedigreeFunction  Age  Outcome  \n",
       "0                       0.627   50        1  \n",
       "1                       0.351   31        0  \n",
       "2                       0.672   32        1  \n",
       "3                       0.167   21        0  \n",
       "4                       2.288   33        1  \n",
       "..                        ...  ...      ...  \n",
       "763                     0.171   63        0  \n",
       "764                     0.340   27        0  \n",
       "765                     0.245   30        0  \n",
       "766                     0.349   47        1  \n",
       "767                     0.315   23        0  \n",
       "\n",
       "[768 rows x 9 columns]"
      ]
     },
     "execution_count": 9,
     "metadata": {},
     "output_type": "execute_result"
    }
   ],
   "source": [
    "df['Glucose'] = df[['Glucose','Age']].apply(lambda x: df[df['Age']==x['Age']]['Glucose'].mean() if x['Glucose'] == 0 else x['Glucose'],axis=1)\n",
    "df"
   ]
  },
  {
   "cell_type": "code",
   "execution_count": 10,
   "id": "bd5da807",
   "metadata": {
    "execution": {
     "iopub.execute_input": "2022-12-03T14:15:29.601220Z",
     "iopub.status.busy": "2022-12-03T14:15:29.600682Z",
     "iopub.status.idle": "2022-12-03T14:15:29.853238Z",
     "shell.execute_reply": "2022-12-03T14:15:29.852331Z"
    },
    "papermill": {
     "duration": 0.267587,
     "end_time": "2022-12-03T14:15:29.855443",
     "exception": false,
     "start_time": "2022-12-03T14:15:29.587856",
     "status": "completed"
    },
    "tags": []
   },
   "outputs": [
    {
     "data": {
      "image/png": "[encoded data removed]",
      "text/plain": [
       "<Figure size 842.4x595.44 with 1 Axes>"
      ]
     },
     "metadata": {},
     "output_type": "display_data"
    }
   ],
   "source": [
    "sns.histplot(df, x='Glucose', kde=True, color='g')\n",
    "plt.title('Distribution of Glucose Level in the dataset after data cleansing')\n",
    "plt.show()"
   ]
  },
  {
   "cell_type": "code",
   "execution_count": 11,
   "id": "f224c5d9",
   "metadata": {
    "execution": {
     "iopub.execute_input": "2022-12-03T14:15:29.879511Z",
     "iopub.status.busy": "2022-12-03T14:15:29.879072Z",
     "iopub.status.idle": "2022-12-03T14:15:30.146684Z",
     "shell.execute_reply": "2022-12-03T14:15:30.144879Z"
    },
    "papermill": {
     "duration": 0.282987,
     "end_time": "2022-12-03T14:15:30.149464",
     "exception": false,
     "start_time": "2022-12-03T14:15:29.866477",
     "status": "completed"
    },
    "tags": []
   },
   "outputs": [
    {
     "data": {
      "image/png": "[encoded data removed]",
      "text/plain": [
       "<Figure size 842.4x595.44 with 1 Axes>"
      ]
     },
     "metadata": {},
     "output_type": "display_data"
    }
   ],
   "source": [
    "sns.histplot(df, x='BloodPressure', kde=True)\n",
    "plt.title('Distribution of blood pressure in the dataset')\n",
    "plt.show()"
   ]
  },
  {
   "cell_type": "markdown",
   "id": "39a5308e",
   "metadata": {
    "papermill": {
     "duration": 0.01102,
     "end_time": "2022-12-03T14:15:30.172183",
     "exception": false,
     "start_time": "2022-12-03T14:15:30.161163",
     "status": "completed"
    },
    "tags": []
   },
   "source": [
    "The reading of blood presuree less than 40 is considered as outliner.  Therefore, the average value of the respective age will be used to clease the patient data whose blood pressure is less than 40."
   ]
  },
  {
   "cell_type": "code",
   "execution_count": 12,
   "id": "4fb9b09e",
   "metadata": {
    "execution": {
     "iopub.execute_input": "2022-12-03T14:15:30.196518Z",
     "iopub.status.busy": "2022-12-03T14:15:30.196117Z",
     "iopub.status.idle": "2022-12-03T14:15:30.257484Z",
     "shell.execute_reply": "2022-12-03T14:15:30.256511Z"
    },
    "papermill": {
     "duration": 0.076431,
     "end_time": "2022-12-03T14:15:30.260040",
     "exception": false,
     "start_time": "2022-12-03T14:15:30.183609",
     "status": "completed"
    },
    "tags": []
   },
   "outputs": [
    {
     "data": {
      "text/html": [
       "<div>\n",
       "<style scoped>\n",
       "    .dataframe tbody tr th:only-of-type {\n",
       "        vertical-align: middle;\n",
       "    }\n",
       "\n",
       "    .dataframe tbody tr th {\n",
       "        vertical-align: top;\n",
       "    }\n",
       "\n",
       "    .dataframe thead th {\n",
       "        text-align: right;\n",
       "    }\n",
       "</style>\n",
       "<table border=\"1\" class=\"dataframe\">\n",
       "  <thead>\n",
       "    <tr style=\"text-align: right;\">\n",
       "      <th></th>\n",
       "      <th>Pregnancies</th>\n",
       "      <th>Glucose</th>\n",
       "      <th>BloodPressure</th>\n",
       "      <th>SkinThickness</th>\n",
       "      <th>Insulin</th>\n",
       "      <th>BMI</th>\n",
       "      <th>DiabetesPedigreeFunction</th>\n",
       "      <th>Age</th>\n",
       "      <th>Outcome</th>\n",
       "    </tr>\n",
       "  </thead>\n",
       "  <tbody>\n",
       "    <tr>\n",
       "      <th>0</th>\n",
       "      <td>6</td>\n",
       "      <td>148.0</td>\n",
       "      <td>72.0</td>\n",
       "      <td>35</td>\n",
       "      <td>0</td>\n",
       "      <td>33.6</td>\n",
       "      <td>0.627</td>\n",
       "      <td>50</td>\n",
       "      <td>1</td>\n",
       "    </tr>\n",
       "    <tr>\n",
       "      <th>1</th>\n",
       "      <td>1</td>\n",
       "      <td>85.0</td>\n",
       "      <td>66.0</td>\n",
       "      <td>29</td>\n",
       "      <td>0</td>\n",
       "      <td>26.6</td>\n",
       "      <td>0.351</td>\n",
       "      <td>31</td>\n",
       "      <td>0</td>\n",
       "    </tr>\n",
       "    <tr>\n",
       "      <th>2</th>\n",
       "      <td>8</td>\n",
       "      <td>183.0</td>\n",
       "      <td>64.0</td>\n",
       "      <td>0</td>\n",
       "      <td>0</td>\n",
       "      <td>23.3</td>\n",
       "      <td>0.672</td>\n",
       "      <td>32</td>\n",
       "      <td>1</td>\n",
       "    </tr>\n",
       "    <tr>\n",
       "      <th>3</th>\n",
       "      <td>1</td>\n",
       "      <td>89.0</td>\n",
       "      <td>66.0</td>\n",
       "      <td>23</td>\n",
       "      <td>94</td>\n",
       "      <td>28.1</td>\n",
       "      <td>0.167</td>\n",
       "      <td>21</td>\n",
       "      <td>0</td>\n",
       "    </tr>\n",
       "    <tr>\n",
       "      <th>4</th>\n",
       "      <td>0</td>\n",
       "      <td>137.0</td>\n",
       "      <td>40.0</td>\n",
       "      <td>35</td>\n",
       "      <td>168</td>\n",
       "      <td>43.1</td>\n",
       "      <td>2.288</td>\n",
       "      <td>33</td>\n",
       "      <td>1</td>\n",
       "    </tr>\n",
       "    <tr>\n",
       "      <th>...</th>\n",
       "      <td>...</td>\n",
       "      <td>...</td>\n",
       "      <td>...</td>\n",
       "      <td>...</td>\n",
       "      <td>...</td>\n",
       "      <td>...</td>\n",
       "      <td>...</td>\n",
       "      <td>...</td>\n",
       "      <td>...</td>\n",
       "    </tr>\n",
       "    <tr>\n",
       "      <th>763</th>\n",
       "      <td>10</td>\n",
       "      <td>101.0</td>\n",
       "      <td>76.0</td>\n",
       "      <td>48</td>\n",
       "      <td>180</td>\n",
       "      <td>32.9</td>\n",
       "      <td>0.171</td>\n",
       "      <td>63</td>\n",
       "      <td>0</td>\n",
       "    </tr>\n",
       "    <tr>\n",
       "      <th>764</th>\n",
       "      <td>2</td>\n",
       "      <td>122.0</td>\n",
       "      <td>70.0</td>\n",
       "      <td>27</td>\n",
       "      <td>0</td>\n",
       "      <td>36.8</td>\n",
       "      <td>0.340</td>\n",
       "      <td>27</td>\n",
       "      <td>0</td>\n",
       "    </tr>\n",
       "    <tr>\n",
       "      <th>765</th>\n",
       "      <td>5</td>\n",
       "      <td>121.0</td>\n",
       "      <td>72.0</td>\n",
       "      <td>23</td>\n",
       "      <td>112</td>\n",
       "      <td>26.2</td>\n",
       "      <td>0.245</td>\n",
       "      <td>30</td>\n",
       "      <td>0</td>\n",
       "    </tr>\n",
       "    <tr>\n",
       "      <th>766</th>\n",
       "      <td>1</td>\n",
       "      <td>126.0</td>\n",
       "      <td>60.0</td>\n",
       "      <td>0</td>\n",
       "      <td>0</td>\n",
       "      <td>30.1</td>\n",
       "      <td>0.349</td>\n",
       "      <td>47</td>\n",
       "      <td>1</td>\n",
       "    </tr>\n",
       "    <tr>\n",
       "      <th>767</th>\n",
       "      <td>1</td>\n",
       "      <td>93.0</td>\n",
       "      <td>70.0</td>\n",
       "      <td>31</td>\n",
       "      <td>0</td>\n",
       "      <td>30.4</td>\n",
       "      <td>0.315</td>\n",
       "      <td>23</td>\n",
       "      <td>0</td>\n",
       "    </tr>\n",
       "  </tbody>\n",
       "</table>\n",
       "<p>768 rows × 9 columns</p>\n",
       "</div>"
      ],
      "text/plain": [
       "     Pregnancies  Glucose  BloodPressure  SkinThickness  Insulin   BMI  \\\n",
       "0              6    148.0           72.0             35        0  33.6   \n",
       "1              1     85.0           66.0             29        0  26.6   \n",
       "2              8    183.0           64.0              0        0  23.3   \n",
       "3              1     89.0           66.0             23       94  28.1   \n",
       "4              0    137.0           40.0             35      168  43.1   \n",
       "..           ...      ...            ...            ...      ...   ...   \n",
       "763           10    101.0           76.0             48      180  32.9   \n",
       "764            2    122.0           70.0             27        0  36.8   \n",
       "765            5    121.0           72.0             23      112  26.2   \n",
       "766            1    126.0           60.0              0        0  30.1   \n",
       "767            1     93.0           70.0             31        0  30.4   \n",
       "\n",
       "     DiabetesPedigreeFunction  Age  Outcome  \n",
       "0                       0.627   50        1  \n",
       "1                       0.351   31        0  \n",
       "2                       0.672   32        1  \n",
       "3                       0.167   21        0  \n",
       "4                       2.288   33        1  \n",
       "..                        ...  ...      ...  \n",
       "763                     0.171   63        0  \n",
       "764                     0.340   27        0  \n",
       "765                     0.245   30        0  \n",
       "766                     0.349   47        1  \n",
       "767                     0.315   23        0  \n",
       "\n",
       "[768 rows x 9 columns]"
      ]
     },
     "execution_count": 12,
     "metadata": {},
     "output_type": "execute_result"
    }
   ],
   "source": [
    "df['BloodPressure'] = df[['BloodPressure','Age']].apply(lambda x: df[df['Age']==x['Age']]['BloodPressure'].mean() if x['BloodPressure'] <40 else x['BloodPressure'],axis=1)\n",
    "df['BloodPressure'] = df['BloodPressure'].apply(lambda x: df['BloodPressure'].mean() if x == 0 else x)\n",
    "df"
   ]
  },
  {
   "cell_type": "code",
   "execution_count": 13,
   "id": "51f6d6d0",
   "metadata": {
    "execution": {
     "iopub.execute_input": "2022-12-03T14:15:30.284747Z",
     "iopub.status.busy": "2022-12-03T14:15:30.284404Z",
     "iopub.status.idle": "2022-12-03T14:15:30.527658Z",
     "shell.execute_reply": "2022-12-03T14:15:30.526134Z"
    },
    "papermill": {
     "duration": 0.258829,
     "end_time": "2022-12-03T14:15:30.530406",
     "exception": false,
     "start_time": "2022-12-03T14:15:30.271577",
     "status": "completed"
    },
    "tags": []
   },
   "outputs": [
    {
     "data": {
      "image/png": "[encoded data removed]",
      "text/plain": [
       "<Figure size 842.4x595.44 with 1 Axes>"
      ]
     },
     "metadata": {},
     "output_type": "display_data"
    }
   ],
   "source": [
    "sns.histplot(df, x='BloodPressure', kde=True, color = 'g')\n",
    "plt.title('Distribution of Blood pressure in the dataset after data cleansing')\n",
    "plt.show()"
   ]
  },
  {
   "cell_type": "code",
   "execution_count": 14,
   "id": "e7e5db01",
   "metadata": {
    "execution": {
     "iopub.execute_input": "2022-12-03T14:15:30.556387Z",
     "iopub.status.busy": "2022-12-03T14:15:30.555399Z",
     "iopub.status.idle": "2022-12-03T14:15:30.800237Z",
     "shell.execute_reply": "2022-12-03T14:15:30.799248Z"
    },
    "papermill": {
     "duration": 0.259662,
     "end_time": "2022-12-03T14:15:30.802175",
     "exception": false,
     "start_time": "2022-12-03T14:15:30.542513",
     "status": "completed"
    },
    "tags": []
   },
   "outputs": [
    {
     "data": {
      "image/png": "[encoded data removed]",
      "text/plain": [
       "<Figure size 842.4x595.44 with 1 Axes>"
      ]
     },
     "metadata": {},
     "output_type": "display_data"
    }
   ],
   "source": [
    "sns.histplot(df, x='SkinThickness', kde=True)\n",
    "plt.title('Distribution of skin thickness in the dataset')\n",
    "plt.show()"
   ]
  },
  {
   "cell_type": "markdown",
   "id": "462286b3",
   "metadata": {
    "papermill": {
     "duration": 0.012785,
     "end_time": "2022-12-03T14:15:30.827921",
     "exception": false,
     "start_time": "2022-12-03T14:15:30.815136",
     "status": "completed"
    },
    "tags": []
   },
   "source": [
    "Same apply to the skin thickness"
   ]
  },
  {
   "cell_type": "code",
   "execution_count": 15,
   "id": "5811532c",
   "metadata": {
    "execution": {
     "iopub.execute_input": "2022-12-03T14:15:30.854802Z",
     "iopub.status.busy": "2022-12-03T14:15:30.853847Z",
     "iopub.status.idle": "2022-12-03T14:15:31.000529Z",
     "shell.execute_reply": "2022-12-03T14:15:30.998816Z"
    },
    "papermill": {
     "duration": 0.162734,
     "end_time": "2022-12-03T14:15:31.003151",
     "exception": false,
     "start_time": "2022-12-03T14:15:30.840417",
     "status": "completed"
    },
    "tags": []
   },
   "outputs": [
    {
     "data": {
      "text/html": [
       "<div>\n",
       "<style scoped>\n",
       "    .dataframe tbody tr th:only-of-type {\n",
       "        vertical-align: middle;\n",
       "    }\n",
       "\n",
       "    .dataframe tbody tr th {\n",
       "        vertical-align: top;\n",
       "    }\n",
       "\n",
       "    .dataframe thead th {\n",
       "        text-align: right;\n",
       "    }\n",
       "</style>\n",
       "<table border=\"1\" class=\"dataframe\">\n",
       "  <thead>\n",
       "    <tr style=\"text-align: right;\">\n",
       "      <th></th>\n",
       "      <th>Pregnancies</th>\n",
       "      <th>Glucose</th>\n",
       "      <th>BloodPressure</th>\n",
       "      <th>SkinThickness</th>\n",
       "      <th>Insulin</th>\n",
       "      <th>BMI</th>\n",
       "      <th>DiabetesPedigreeFunction</th>\n",
       "      <th>Age</th>\n",
       "      <th>Outcome</th>\n",
       "    </tr>\n",
       "  </thead>\n",
       "  <tbody>\n",
       "    <tr>\n",
       "      <th>0</th>\n",
       "      <td>6</td>\n",
       "      <td>148.0</td>\n",
       "      <td>72.0</td>\n",
       "      <td>35.0</td>\n",
       "      <td>0</td>\n",
       "      <td>33.6</td>\n",
       "      <td>0.627</td>\n",
       "      <td>50</td>\n",
       "      <td>1</td>\n",
       "    </tr>\n",
       "    <tr>\n",
       "      <th>1</th>\n",
       "      <td>1</td>\n",
       "      <td>85.0</td>\n",
       "      <td>66.0</td>\n",
       "      <td>29.0</td>\n",
       "      <td>0</td>\n",
       "      <td>26.6</td>\n",
       "      <td>0.351</td>\n",
       "      <td>31</td>\n",
       "      <td>0</td>\n",
       "    </tr>\n",
       "    <tr>\n",
       "      <th>2</th>\n",
       "      <td>8</td>\n",
       "      <td>183.0</td>\n",
       "      <td>64.0</td>\n",
       "      <td>18.0</td>\n",
       "      <td>0</td>\n",
       "      <td>23.3</td>\n",
       "      <td>0.672</td>\n",
       "      <td>32</td>\n",
       "      <td>1</td>\n",
       "    </tr>\n",
       "    <tr>\n",
       "      <th>3</th>\n",
       "      <td>1</td>\n",
       "      <td>89.0</td>\n",
       "      <td>66.0</td>\n",
       "      <td>23.0</td>\n",
       "      <td>94</td>\n",
       "      <td>28.1</td>\n",
       "      <td>0.167</td>\n",
       "      <td>21</td>\n",
       "      <td>0</td>\n",
       "    </tr>\n",
       "    <tr>\n",
       "      <th>4</th>\n",
       "      <td>0</td>\n",
       "      <td>137.0</td>\n",
       "      <td>40.0</td>\n",
       "      <td>35.0</td>\n",
       "      <td>168</td>\n",
       "      <td>43.1</td>\n",
       "      <td>2.288</td>\n",
       "      <td>33</td>\n",
       "      <td>1</td>\n",
       "    </tr>\n",
       "    <tr>\n",
       "      <th>...</th>\n",
       "      <td>...</td>\n",
       "      <td>...</td>\n",
       "      <td>...</td>\n",
       "      <td>...</td>\n",
       "      <td>...</td>\n",
       "      <td>...</td>\n",
       "      <td>...</td>\n",
       "      <td>...</td>\n",
       "      <td>...</td>\n",
       "    </tr>\n",
       "    <tr>\n",
       "      <th>763</th>\n",
       "      <td>10</td>\n",
       "      <td>101.0</td>\n",
       "      <td>76.0</td>\n",
       "      <td>48.0</td>\n",
       "      <td>180</td>\n",
       "      <td>32.9</td>\n",
       "      <td>0.171</td>\n",
       "      <td>63</td>\n",
       "      <td>0</td>\n",
       "    </tr>\n",
       "    <tr>\n",
       "      <th>764</th>\n",
       "      <td>2</td>\n",
       "      <td>122.0</td>\n",
       "      <td>70.0</td>\n",
       "      <td>27.0</td>\n",
       "      <td>0</td>\n",
       "      <td>36.8</td>\n",
       "      <td>0.340</td>\n",
       "      <td>27</td>\n",
       "      <td>0</td>\n",
       "    </tr>\n",
       "    <tr>\n",
       "      <th>765</th>\n",
       "      <td>5</td>\n",
       "      <td>121.0</td>\n",
       "      <td>72.0</td>\n",
       "      <td>23.0</td>\n",
       "      <td>112</td>\n",
       "      <td>26.2</td>\n",
       "      <td>0.245</td>\n",
       "      <td>30</td>\n",
       "      <td>0</td>\n",
       "    </tr>\n",
       "    <tr>\n",
       "      <th>766</th>\n",
       "      <td>1</td>\n",
       "      <td>126.0</td>\n",
       "      <td>60.0</td>\n",
       "      <td>14.0</td>\n",
       "      <td>0</td>\n",
       "      <td>30.1</td>\n",
       "      <td>0.349</td>\n",
       "      <td>47</td>\n",
       "      <td>1</td>\n",
       "    </tr>\n",
       "    <tr>\n",
       "      <th>767</th>\n",
       "      <td>1</td>\n",
       "      <td>93.0</td>\n",
       "      <td>70.0</td>\n",
       "      <td>31.0</td>\n",
       "      <td>0</td>\n",
       "      <td>30.4</td>\n",
       "      <td>0.315</td>\n",
       "      <td>23</td>\n",
       "      <td>0</td>\n",
       "    </tr>\n",
       "  </tbody>\n",
       "</table>\n",
       "<p>768 rows × 9 columns</p>\n",
       "</div>"
      ],
      "text/plain": [
       "     Pregnancies  Glucose  BloodPressure  SkinThickness  Insulin   BMI  \\\n",
       "0              6    148.0           72.0           35.0        0  33.6   \n",
       "1              1     85.0           66.0           29.0        0  26.6   \n",
       "2              8    183.0           64.0           18.0        0  23.3   \n",
       "3              1     89.0           66.0           23.0       94  28.1   \n",
       "4              0    137.0           40.0           35.0      168  43.1   \n",
       "..           ...      ...            ...            ...      ...   ...   \n",
       "763           10    101.0           76.0           48.0      180  32.9   \n",
       "764            2    122.0           70.0           27.0        0  36.8   \n",
       "765            5    121.0           72.0           23.0      112  26.2   \n",
       "766            1    126.0           60.0           14.0        0  30.1   \n",
       "767            1     93.0           70.0           31.0        0  30.4   \n",
       "\n",
       "     DiabetesPedigreeFunction  Age  Outcome  \n",
       "0                       0.627   50        1  \n",
       "1                       0.351   31        0  \n",
       "2                       0.672   32        1  \n",
       "3                       0.167   21        0  \n",
       "4                       2.288   33        1  \n",
       "..                        ...  ...      ...  \n",
       "763                     0.171   63        0  \n",
       "764                     0.340   27        0  \n",
       "765                     0.245   30        0  \n",
       "766                     0.349   47        1  \n",
       "767                     0.315   23        0  \n",
       "\n",
       "[768 rows x 9 columns]"
      ]
     },
     "execution_count": 15,
     "metadata": {},
     "output_type": "execute_result"
    }
   ],
   "source": [
    "df['SkinThickness'] = df[['SkinThickness','Age']].apply(lambda x: round(df[df['Age']==x['Age']]['SkinThickness'].mean()) if x['SkinThickness'] ==0 else x['SkinThickness'],axis=1)\n",
    "df['SkinThickness'] = df['SkinThickness'].apply(lambda x: df['SkinThickness'].mean() if x == 0 else x)\n",
    "df"
   ]
  },
  {
   "cell_type": "code",
   "execution_count": 16,
   "id": "6f3139ba",
   "metadata": {
    "execution": {
     "iopub.execute_input": "2022-12-03T14:15:31.031006Z",
     "iopub.status.busy": "2022-12-03T14:15:31.030589Z",
     "iopub.status.idle": "2022-12-03T14:15:31.271615Z",
     "shell.execute_reply": "2022-12-03T14:15:31.270482Z"
    },
    "papermill": {
     "duration": 0.257281,
     "end_time": "2022-12-03T14:15:31.274000",
     "exception": false,
     "start_time": "2022-12-03T14:15:31.016719",
     "status": "completed"
    },
    "tags": []
   },
   "outputs": [
    {
     "data": {
      "image/png": "[encoded data removed]",
      "text/plain": [
       "<Figure size 842.4x595.44 with 1 Axes>"
      ]
     },
     "metadata": {},
     "output_type": "display_data"
    }
   ],
   "source": [
    "sns.histplot(df, x='SkinThickness', kde=True, color = 'g')\n",
    "plt.title('Distribution of skin thickness in the dataset after data cleansing')\n",
    "plt.show()"
   ]
  },
  {
   "cell_type": "code",
   "execution_count": 17,
   "id": "f7d17b87",
   "metadata": {
    "execution": {
     "iopub.execute_input": "2022-12-03T14:15:31.302749Z",
     "iopub.status.busy": "2022-12-03T14:15:31.301373Z",
     "iopub.status.idle": "2022-12-03T14:15:31.529497Z",
     "shell.execute_reply": "2022-12-03T14:15:31.528524Z"
    },
    "papermill": {
     "duration": 0.244884,
     "end_time": "2022-12-03T14:15:31.531910",
     "exception": false,
     "start_time": "2022-12-03T14:15:31.287026",
     "status": "completed"
    },
    "tags": []
   },
   "outputs": [
    {
     "data": {
      "image/png": "[encoded data removed]",
      "text/plain": [
       "<Figure size 842.4x595.44 with 1 Axes>"
      ]
     },
     "metadata": {},
     "output_type": "display_data"
    }
   ],
   "source": [
    "sns.histplot(df, x='Insulin', kde=True)\n",
    "plt.title('Distribution of insulin level in the dataset')\n",
    "plt.show()"
   ]
  },
  {
   "cell_type": "markdown",
   "id": "d50f4ba8",
   "metadata": {
    "papermill": {
     "duration": 0.013423,
     "end_time": "2022-12-03T14:15:31.560075",
     "exception": false,
     "start_time": "2022-12-03T14:15:31.546652",
     "status": "completed"
    },
    "tags": []
   },
   "source": [
    "Same data cleasing work is applied"
   ]
  },
  {
   "cell_type": "code",
   "execution_count": 18,
   "id": "ce9e29d8",
   "metadata": {
    "execution": {
     "iopub.execute_input": "2022-12-03T14:15:31.588956Z",
     "iopub.status.busy": "2022-12-03T14:15:31.588547Z",
     "iopub.status.idle": "2022-12-03T14:15:31.844320Z",
     "shell.execute_reply": "2022-12-03T14:15:31.843240Z"
    },
    "papermill": {
     "duration": 0.27333,
     "end_time": "2022-12-03T14:15:31.846986",
     "exception": false,
     "start_time": "2022-12-03T14:15:31.573656",
     "status": "completed"
    },
    "tags": []
   },
   "outputs": [
    {
     "data": {
      "text/html": [
       "<div>\n",
       "<style scoped>\n",
       "    .dataframe tbody tr th:only-of-type {\n",
       "        vertical-align: middle;\n",
       "    }\n",
       "\n",
       "    .dataframe tbody tr th {\n",
       "        vertical-align: top;\n",
       "    }\n",
       "\n",
       "    .dataframe thead th {\n",
       "        text-align: right;\n",
       "    }\n",
       "</style>\n",
       "<table border=\"1\" class=\"dataframe\">\n",
       "  <thead>\n",
       "    <tr style=\"text-align: right;\">\n",
       "      <th></th>\n",
       "      <th>Pregnancies</th>\n",
       "      <th>Glucose</th>\n",
       "      <th>BloodPressure</th>\n",
       "      <th>SkinThickness</th>\n",
       "      <th>Insulin</th>\n",
       "      <th>BMI</th>\n",
       "      <th>DiabetesPedigreeFunction</th>\n",
       "      <th>Age</th>\n",
       "      <th>Outcome</th>\n",
       "    </tr>\n",
       "  </thead>\n",
       "  <tbody>\n",
       "    <tr>\n",
       "      <th>0</th>\n",
       "      <td>6</td>\n",
       "      <td>148.0</td>\n",
       "      <td>72.0</td>\n",
       "      <td>35.0</td>\n",
       "      <td>26.0</td>\n",
       "      <td>33.6</td>\n",
       "      <td>0.627</td>\n",
       "      <td>50</td>\n",
       "      <td>1</td>\n",
       "    </tr>\n",
       "    <tr>\n",
       "      <th>1</th>\n",
       "      <td>1</td>\n",
       "      <td>85.0</td>\n",
       "      <td>66.0</td>\n",
       "      <td>29.0</td>\n",
       "      <td>111.0</td>\n",
       "      <td>26.6</td>\n",
       "      <td>0.351</td>\n",
       "      <td>31</td>\n",
       "      <td>0</td>\n",
       "    </tr>\n",
       "    <tr>\n",
       "      <th>2</th>\n",
       "      <td>8</td>\n",
       "      <td>183.0</td>\n",
       "      <td>64.0</td>\n",
       "      <td>18.0</td>\n",
       "      <td>36.0</td>\n",
       "      <td>23.3</td>\n",
       "      <td>0.672</td>\n",
       "      <td>32</td>\n",
       "      <td>1</td>\n",
       "    </tr>\n",
       "    <tr>\n",
       "      <th>3</th>\n",
       "      <td>1</td>\n",
       "      <td>89.0</td>\n",
       "      <td>66.0</td>\n",
       "      <td>23.0</td>\n",
       "      <td>94.0</td>\n",
       "      <td>28.1</td>\n",
       "      <td>0.167</td>\n",
       "      <td>21</td>\n",
       "      <td>0</td>\n",
       "    </tr>\n",
       "    <tr>\n",
       "      <th>4</th>\n",
       "      <td>0</td>\n",
       "      <td>137.0</td>\n",
       "      <td>40.0</td>\n",
       "      <td>35.0</td>\n",
       "      <td>168.0</td>\n",
       "      <td>43.1</td>\n",
       "      <td>2.288</td>\n",
       "      <td>33</td>\n",
       "      <td>1</td>\n",
       "    </tr>\n",
       "    <tr>\n",
       "      <th>...</th>\n",
       "      <td>...</td>\n",
       "      <td>...</td>\n",
       "      <td>...</td>\n",
       "      <td>...</td>\n",
       "      <td>...</td>\n",
       "      <td>...</td>\n",
       "      <td>...</td>\n",
       "      <td>...</td>\n",
       "      <td>...</td>\n",
       "    </tr>\n",
       "    <tr>\n",
       "      <th>763</th>\n",
       "      <td>10</td>\n",
       "      <td>101.0</td>\n",
       "      <td>76.0</td>\n",
       "      <td>48.0</td>\n",
       "      <td>180.0</td>\n",
       "      <td>32.9</td>\n",
       "      <td>0.171</td>\n",
       "      <td>63</td>\n",
       "      <td>0</td>\n",
       "    </tr>\n",
       "    <tr>\n",
       "      <th>764</th>\n",
       "      <td>2</td>\n",
       "      <td>122.0</td>\n",
       "      <td>70.0</td>\n",
       "      <td>27.0</td>\n",
       "      <td>63.0</td>\n",
       "      <td>36.8</td>\n",
       "      <td>0.340</td>\n",
       "      <td>27</td>\n",
       "      <td>0</td>\n",
       "    </tr>\n",
       "    <tr>\n",
       "      <th>765</th>\n",
       "      <td>5</td>\n",
       "      <td>121.0</td>\n",
       "      <td>72.0</td>\n",
       "      <td>23.0</td>\n",
       "      <td>112.0</td>\n",
       "      <td>26.2</td>\n",
       "      <td>0.245</td>\n",
       "      <td>30</td>\n",
       "      <td>0</td>\n",
       "    </tr>\n",
       "    <tr>\n",
       "      <th>766</th>\n",
       "      <td>1</td>\n",
       "      <td>126.0</td>\n",
       "      <td>60.0</td>\n",
       "      <td>14.0</td>\n",
       "      <td>49.0</td>\n",
       "      <td>30.1</td>\n",
       "      <td>0.349</td>\n",
       "      <td>47</td>\n",
       "      <td>1</td>\n",
       "    </tr>\n",
       "    <tr>\n",
       "      <th>767</th>\n",
       "      <td>1</td>\n",
       "      <td>93.0</td>\n",
       "      <td>70.0</td>\n",
       "      <td>31.0</td>\n",
       "      <td>118.0</td>\n",
       "      <td>30.4</td>\n",
       "      <td>0.315</td>\n",
       "      <td>23</td>\n",
       "      <td>0</td>\n",
       "    </tr>\n",
       "  </tbody>\n",
       "</table>\n",
       "<p>768 rows × 9 columns</p>\n",
       "</div>"
      ],
      "text/plain": [
       "     Pregnancies  Glucose  BloodPressure  SkinThickness  Insulin   BMI  \\\n",
       "0              6    148.0           72.0           35.0     26.0  33.6   \n",
       "1              1     85.0           66.0           29.0    111.0  26.6   \n",
       "2              8    183.0           64.0           18.0     36.0  23.3   \n",
       "3              1     89.0           66.0           23.0     94.0  28.1   \n",
       "4              0    137.0           40.0           35.0    168.0  43.1   \n",
       "..           ...      ...            ...            ...      ...   ...   \n",
       "763           10    101.0           76.0           48.0    180.0  32.9   \n",
       "764            2    122.0           70.0           27.0     63.0  36.8   \n",
       "765            5    121.0           72.0           23.0    112.0  26.2   \n",
       "766            1    126.0           60.0           14.0     49.0  30.1   \n",
       "767            1     93.0           70.0           31.0    118.0  30.4   \n",
       "\n",
       "     DiabetesPedigreeFunction  Age  Outcome  \n",
       "0                       0.627   50        1  \n",
       "1                       0.351   31        0  \n",
       "2                       0.672   32        1  \n",
       "3                       0.167   21        0  \n",
       "4                       2.288   33        1  \n",
       "..                        ...  ...      ...  \n",
       "763                     0.171   63        0  \n",
       "764                     0.340   27        0  \n",
       "765                     0.245   30        0  \n",
       "766                     0.349   47        1  \n",
       "767                     0.315   23        0  \n",
       "\n",
       "[768 rows x 9 columns]"
      ]
     },
     "execution_count": 18,
     "metadata": {},
     "output_type": "execute_result"
    }
   ],
   "source": [
    "df['Insulin'] = df[['Insulin','Age']].apply(lambda x: round(df[df['Age']==x['Age']]['Insulin'].mean()) if x['Insulin'] ==0 else x['Insulin'],axis=1)\n",
    "df['Insulin'] = df['Insulin'].apply(lambda x: df['Insulin'].mean() if x == 0 else x)\n",
    "df"
   ]
  },
  {
   "cell_type": "code",
   "execution_count": 19,
   "id": "940b894f",
   "metadata": {
    "execution": {
     "iopub.execute_input": "2022-12-03T14:15:31.876473Z",
     "iopub.status.busy": "2022-12-03T14:15:31.876076Z",
     "iopub.status.idle": "2022-12-03T14:15:32.142867Z",
     "shell.execute_reply": "2022-12-03T14:15:32.141755Z"
    },
    "papermill": {
     "duration": 0.283934,
     "end_time": "2022-12-03T14:15:32.145162",
     "exception": false,
     "start_time": "2022-12-03T14:15:31.861228",
     "status": "completed"
    },
    "tags": []
   },
   "outputs": [
    {
     "data": {
      "image/png": "[encoded data removed]",
      "text/plain": [
       "<Figure size 842.4x595.44 with 1 Axes>"
      ]
     },
     "metadata": {},
     "output_type": "display_data"
    }
   ],
   "source": [
    "sns.histplot(df, x='Insulin', kde=True, color ='g')\n",
    "plt.title('Distribution of insulin level in the dataset after data cleasing')\n",
    "plt.show()"
   ]
  },
  {
   "cell_type": "markdown",
   "id": "cf4db652",
   "metadata": {
    "papermill": {
     "duration": 0.014067,
     "end_time": "2022-12-03T14:15:32.173930",
     "exception": false,
     "start_time": "2022-12-03T14:15:32.159863",
     "status": "completed"
    },
    "tags": []
   },
   "source": [
    "# Machine Learning"
   ]
  },
  {
   "cell_type": "code",
   "execution_count": 20,
   "id": "69004605",
   "metadata": {
    "execution": {
     "iopub.execute_input": "2022-12-03T14:15:32.205045Z",
     "iopub.status.busy": "2022-12-03T14:15:32.204642Z",
     "iopub.status.idle": "2022-12-03T14:15:32.565600Z",
     "shell.execute_reply": "2022-12-03T14:15:32.564280Z"
    },
    "papermill": {
     "duration": 0.379604,
     "end_time": "2022-12-03T14:15:32.568598",
     "exception": false,
     "start_time": "2022-12-03T14:15:32.188994",
     "status": "completed"
    },
    "tags": []
   },
   "outputs": [],
   "source": [
    "from sklearn.model_selection import train_test_split\n",
    "X = df.drop(columns='Outcome')\n",
    "y = df['Outcome']\n",
    "X_train, X_test, y_train, y_test = train_test_split(X,y ,test_size=0.3, random_state=42)\n"
   ]
  },
  {
   "cell_type": "code",
   "execution_count": 21,
   "id": "f7818208",
   "metadata": {
    "execution": {
     "iopub.execute_input": "2022-12-03T14:15:32.598962Z",
     "iopub.status.busy": "2022-12-03T14:15:32.598635Z",
     "iopub.status.idle": "2022-12-03T14:15:32.921659Z",
     "shell.execute_reply": "2022-12-03T14:15:32.919970Z"
    },
    "papermill": {
     "duration": 0.341337,
     "end_time": "2022-12-03T14:15:32.924295",
     "exception": false,
     "start_time": "2022-12-03T14:15:32.582958",
     "status": "completed"
    },
    "tags": []
   },
   "outputs": [],
   "source": [
    "# machine learning\n",
    "from sklearn.linear_model import LogisticRegression\n",
    "from sklearn.svm import SVC, LinearSVC\n",
    "from sklearn.ensemble import RandomForestClassifier\n",
    "from sklearn.neighbors import KNeighborsClassifier\n",
    "from sklearn.naive_bayes import GaussianNB\n",
    "from sklearn.linear_model import Perceptron\n",
    "from sklearn.linear_model import SGDClassifier\n",
    "from sklearn.tree import DecisionTreeClassifier\n",
    "from sklearn.ensemble import BaggingClassifier, GradientBoostingClassifier\n",
    "from xgboost import XGBClassifier\n",
    "\n",
    "from sklearn.metrics import accuracy_score"
   ]
  },
  {
   "cell_type": "code",
   "execution_count": 22,
   "id": "91059e0e",
   "metadata": {
    "execution": {
     "iopub.execute_input": "2022-12-03T14:15:32.954472Z",
     "iopub.status.busy": "2022-12-03T14:15:32.954117Z",
     "iopub.status.idle": "2022-12-03T14:15:32.962665Z",
     "shell.execute_reply": "2022-12-03T14:15:32.961306Z"
    },
    "papermill": {
     "duration": 0.025983,
     "end_time": "2022-12-03T14:15:32.964638",
     "exception": false,
     "start_time": "2022-12-03T14:15:32.938655",
     "status": "completed"
    },
    "tags": []
   },
   "outputs": [],
   "source": [
    "svc = SVC()\n",
    "log = LogisticRegression()\n",
    "RF = RandomForestClassifier(n_estimators=100)\n",
    "KN = KNeighborsClassifier(n_neighbors = 10)\n",
    "GNB = GaussianNB()\n",
    "PER = Perceptron()\n",
    "SGD = SGDClassifier()\n",
    "DT = DecisionTreeClassifier()\n",
    "GBC = GradientBoostingClassifier(n_estimators=100, learning_rate = 1, max_depth = 10)\n",
    "XGB = XGBClassifier(\n",
    "    learning_rate = 0.1,\n",
    " n_estimators= 100,\n",
    " max_depth= 4,\n",
    " min_child_weight= 2,\n",
    " #gamma=1,\n",
    " gamma=0.9,                        \n",
    " subsample=0.8,\n",
    " colsample_bytree=0.8,\n",
    " objective= 'binary:logistic',\n",
    " nthread= -1,\n",
    " scale_pos_weight=1)\n",
    "model_dict = {\n",
    "    'SVC':svc,\n",
    "    'Logistic Regression' :log,\n",
    "    'Random Forest': RF,\n",
    "    'KNeighbor': KN,\n",
    "    'GaussianNB':GNB,\n",
    "    'Perceptron':PER,\n",
    "    'SGD':SGD,\n",
    "    'DecisionTree':DT,\n",
    "    'GradientBoostingClassifier':GBC,\n",
    "    'XGB': XGB\n",
    "}\n"
   ]
  },
  {
   "cell_type": "code",
   "execution_count": 23,
   "id": "22b55cae",
   "metadata": {
    "execution": {
     "iopub.execute_input": "2022-12-03T14:15:32.995492Z",
     "iopub.status.busy": "2022-12-03T14:15:32.995090Z",
     "iopub.status.idle": "2022-12-03T14:15:33.597521Z",
     "shell.execute_reply": "2022-12-03T14:15:33.596775Z"
    },
    "papermill": {
     "duration": 0.620168,
     "end_time": "2022-12-03T14:15:33.599506",
     "exception": false,
     "start_time": "2022-12-03T14:15:32.979338",
     "status": "completed"
    },
    "tags": []
   },
   "outputs": [
    {
     "name": "stdout",
     "output_type": "stream",
     "text": [
      "Training Model: SVC\n",
      "The score: 74.89\n",
      "Training Model: Logistic Regression\n",
      "The score: 74.03\n",
      "Training Model: Random Forest\n",
      "The score: 74.46\n",
      "Training Model: KNeighbor\n",
      "The score: 70.56\n",
      "Training Model: GaussianNB\n",
      "The score: 73.59\n",
      "Training Model: Perceptron\n",
      "The score: 65.37\n",
      "Training Model: SGD\n",
      "The score: 35.5\n",
      "Training Model: DecisionTree\n",
      "The score: 73.16\n",
      "Training Model: GradientBoostingClassifier\n",
      "The score: 71.43\n",
      "Training Model: XGB\n",
      "The score: 72.73\n"
     ]
    }
   ],
   "source": [
    "result_list = []\n",
    "for model_name, model in model_dict.items():\n",
    "    print('Training Model:', model_name)\n",
    "    model.fit(X_train,y_train)\n",
    "    y_pred = model.predict(X_test)\n",
    "    score = round(accuracy_score(y_test, y_pred)*100,2)\n",
    "    print('The score:', score)\n",
    "    result_list.append([model_name, score])\n",
    "    "
   ]
  },
  {
   "cell_type": "markdown",
   "id": "41034127",
   "metadata": {
    "papermill": {
     "duration": 0.014088,
     "end_time": "2022-12-03T14:15:33.628386",
     "exception": false,
     "start_time": "2022-12-03T14:15:33.614298",
     "status": "completed"
    },
    "tags": []
   },
   "source": [
    "Different models were used for training."
   ]
  },
  {
   "cell_type": "code",
   "execution_count": 24,
   "id": "564ff83d",
   "metadata": {
    "execution": {
     "iopub.execute_input": "2022-12-03T14:15:33.659652Z",
     "iopub.status.busy": "2022-12-03T14:15:33.658305Z",
     "iopub.status.idle": "2022-12-03T14:15:33.714301Z",
     "shell.execute_reply": "2022-12-03T14:15:33.711911Z"
    },
    "papermill": {
     "duration": 0.074652,
     "end_time": "2022-12-03T14:15:33.717445",
     "exception": false,
     "start_time": "2022-12-03T14:15:33.642793",
     "status": "completed"
    },
    "tags": []
   },
   "outputs": [],
   "source": [
    "yhats = [model.predict(X_test) for model in list(model_dict.values())]\n",
    "yhats = np.array(yhats).T\n",
    "from scipy import stats\n",
    "y_pred = stats.mode(yhats,axis=1 ).mode\n",
    "\n",
    "score = round(accuracy_score(y_test, y_pred)*100,2)\n",
    "result_list.append(['Average', score])"
   ]
  },
  {
   "cell_type": "markdown",
   "id": "573c63f5",
   "metadata": {
    "papermill": {
     "duration": 0.014432,
     "end_time": "2022-12-03T14:15:33.751328",
     "exception": false,
     "start_time": "2022-12-03T14:15:33.736896",
     "status": "completed"
    },
    "tags": []
   },
   "source": [
    "An average model is also applied to increase the accuracy"
   ]
  },
  {
   "cell_type": "code",
   "execution_count": 25,
   "id": "ae490b50",
   "metadata": {
    "execution": {
     "iopub.execute_input": "2022-12-03T14:15:33.782069Z",
     "iopub.status.busy": "2022-12-03T14:15:33.781367Z",
     "iopub.status.idle": "2022-12-03T14:15:33.793801Z",
     "shell.execute_reply": "2022-12-03T14:15:33.792571Z"
    },
    "papermill": {
     "duration": 0.030504,
     "end_time": "2022-12-03T14:15:33.796386",
     "exception": false,
     "start_time": "2022-12-03T14:15:33.765882",
     "status": "completed"
    },
    "tags": []
   },
   "outputs": [
    {
     "data": {
      "text/html": [
       "<div>\n",
       "<style scoped>\n",
       "    .dataframe tbody tr th:only-of-type {\n",
       "        vertical-align: middle;\n",
       "    }\n",
       "\n",
       "    .dataframe tbody tr th {\n",
       "        vertical-align: top;\n",
       "    }\n",
       "\n",
       "    .dataframe thead th {\n",
       "        text-align: right;\n",
       "    }\n",
       "</style>\n",
       "<table border=\"1\" class=\"dataframe\">\n",
       "  <thead>\n",
       "    <tr style=\"text-align: right;\">\n",
       "      <th></th>\n",
       "      <th>Model</th>\n",
       "      <th>Result</th>\n",
       "    </tr>\n",
       "  </thead>\n",
       "  <tbody>\n",
       "    <tr>\n",
       "      <th>0</th>\n",
       "      <td>SVC</td>\n",
       "      <td>74.89</td>\n",
       "    </tr>\n",
       "    <tr>\n",
       "      <th>1</th>\n",
       "      <td>Logistic Regression</td>\n",
       "      <td>74.03</td>\n",
       "    </tr>\n",
       "    <tr>\n",
       "      <th>2</th>\n",
       "      <td>Random Forest</td>\n",
       "      <td>74.46</td>\n",
       "    </tr>\n",
       "    <tr>\n",
       "      <th>3</th>\n",
       "      <td>KNeighbor</td>\n",
       "      <td>70.56</td>\n",
       "    </tr>\n",
       "    <tr>\n",
       "      <th>4</th>\n",
       "      <td>GaussianNB</td>\n",
       "      <td>73.59</td>\n",
       "    </tr>\n",
       "    <tr>\n",
       "      <th>5</th>\n",
       "      <td>Perceptron</td>\n",
       "      <td>65.37</td>\n",
       "    </tr>\n",
       "    <tr>\n",
       "      <th>6</th>\n",
       "      <td>SGD</td>\n",
       "      <td>35.50</td>\n",
       "    </tr>\n",
       "    <tr>\n",
       "      <th>7</th>\n",
       "      <td>DecisionTree</td>\n",
       "      <td>73.16</td>\n",
       "    </tr>\n",
       "    <tr>\n",
       "      <th>8</th>\n",
       "      <td>GradientBoostingClassifier</td>\n",
       "      <td>71.43</td>\n",
       "    </tr>\n",
       "    <tr>\n",
       "      <th>9</th>\n",
       "      <td>XGB</td>\n",
       "      <td>72.73</td>\n",
       "    </tr>\n",
       "    <tr>\n",
       "      <th>10</th>\n",
       "      <td>Average</td>\n",
       "      <td>74.89</td>\n",
       "    </tr>\n",
       "  </tbody>\n",
       "</table>\n",
       "</div>"
      ],
      "text/plain": [
       "                         Model  Result\n",
       "0                          SVC   74.89\n",
       "1          Logistic Regression   74.03\n",
       "2                Random Forest   74.46\n",
       "3                    KNeighbor   70.56\n",
       "4                   GaussianNB   73.59\n",
       "5                   Perceptron   65.37\n",
       "6                          SGD   35.50\n",
       "7                 DecisionTree   73.16\n",
       "8   GradientBoostingClassifier   71.43\n",
       "9                          XGB   72.73\n",
       "10                     Average   74.89"
      ]
     },
     "execution_count": 25,
     "metadata": {},
     "output_type": "execute_result"
    }
   ],
   "source": [
    "result_df = pd.DataFrame(result_list,columns=['Model','Result'])\n",
    "result_df"
   ]
  },
  {
   "cell_type": "code",
   "execution_count": null,
   "id": "b4289891",
   "metadata": {
    "papermill": {
     "duration": 0.014829,
     "end_time": "2022-12-03T14:15:33.825502",
     "exception": false,
     "start_time": "2022-12-03T14:15:33.810673",
     "status": "completed"
    },
    "tags": []
   },
   "outputs": [],
   "source": []
  }
 ],
 "metadata": {
  "kernelspec": {
   "display_name": "Python 3",
   "language": "python",
   "name": "python3"
  },
  "language_info": {
   "codemirror_mode": {
    "name": "ipython",
    "version": 3
   },
   "file_extension": ".py",
   "mimetype": "text/x-python",
   "name": "python",
   "nbconvert_exporter": "python",
   "pygments_lexer": "ipython3",
   "version": "3.8.8"
  },
  "papermill": {
   "default_parameters": {},
   "duration": 15.267012,
   "end_time": "2022-12-03T14:15:34.662646",
   "environment_variables": {},
   "exception": null,
   "input_path": "__notebook__.ipynb",
   "output_path": "__notebook__.ipynb",
   "parameters": {},
   "start_time": "2022-12-03T14:15:19.395634",
   "version": "2.3.4"
  }
 },
 "nbformat": 4,
 "nbformat_minor": 5
}
